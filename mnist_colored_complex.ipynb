{
 "cells": [
  {
   "cell_type": "code",
   "execution_count": 1,
   "metadata": {},
   "outputs": [],
   "source": [
    "%load_ext autoreload\n",
    "%autoreload 2\n",
    "\n",
    "import os\n",
    "\n",
    "import numpy as np\n",
    "import tensorflow as tf\n",
    "from tqdm.autonotebook import tqdm\n",
    "\n",
    "import data\n",
    "import plotutils\n",
    "import train\n",
    "from models import MlpVae\n",
    "from tcav import compute_cav\n",
    "from utils import build_tensor\n",
    "\n",
    "os.environ['CUDA_VISIBLE_DEVICES'] = '0'\n",
    "gpus = tf.config.experimental.list_physical_devices('GPU')\n",
    "tf.config.experimental.set_memory_growth(gpus[0], True)\n",
    "os.makedirs('./figs', exist_ok=True)\n",
    "\n",
    "# Print output to notebook and file\n",
    "try:\n",
    "    os.remove('output_complex.txt')\n",
    "except OSError:\n",
    "    pass\n",
    "\n",
    "old_print = print\n",
    "def print(*args):\n",
    "    old_print(*args)\n",
    "    with open('output_complex.txt', 'a') as f:\n",
    "        old_print(*args, file=f)"
   ]
  },
  {
   "cell_type": "code",
   "execution_count": 2,
   "metadata": {
    "pycharm": {
     "name": "#%%\n"
    }
   },
   "outputs": [],
   "source": [
    "# Initialization\n",
    "\n",
    "version = 0\n",
    "seed = 10\n",
    "tf.random.set_seed(seed)\n",
    "np.random.seed(seed)\n",
    "\n",
    "red = (255., 0., 0.)\n",
    "green = (0., 255., 0.)\n",
    "blue = (0., 0., 255.)\n",
    "white = (255., 255., 255.)\n",
    "gray = (181., 181., 181.)\n",
    "mint = (186., 255., 205.)\n",
    "pink = (255., 77., 246.)\n",
    "yellow = (255., 255., 0.)\n",
    "orange = (212., 106., 0.)\n",
    "purple = (122., 30., 150.)\n",
    "\n",
    "colors = [\n",
    "    red,\n",
    "    green,\n",
    "    blue,\n",
    "    white,\n",
    "    gray,\n",
    "    pink,\n",
    "    yellow,\n",
    "    mint,\n",
    "    orange,\n",
    "    purple\n",
    "]\n",
    "\n",
    "color_names = [\n",
    "    \"red\",\n",
    "    \"green\",\n",
    "    \"blue\",\n",
    "    \"white\",\n",
    "    \"gray\",\n",
    "    \"pink\",\n",
    "    \"yellow\",\n",
    "    \"mint\",\n",
    "    \"orange\",\n",
    "    \"purple\"\n",
    "]\n",
    "\n",
    "batch_size = 32\n",
    "latent_dim = 60\n",
    "vae = MlpVae(latent_dim, save_path='./checkpoints_final/mlp_vae/')\n",
    "vae_conf = MlpVae(latent_dim, save_path='./checkpoints_final/mlp_vae_conf/')"
   ]
  },
  {
   "cell_type": "code",
   "execution_count": 3,
   "metadata": {
    "pycharm": {
     "name": "#%%\n"
    }
   },
   "outputs": [
    {
     "data": {
      "image/png": "[encoded data removed]",
      "text/plain": [
       "<Figure size 288x288 with 10 Axes>"
      ]
     },
     "metadata": {
      "needs_background": "light"
     },
     "output_type": "display_data"
    },
    {
     "data": {
      "image/png": "[encoded data removed]",
      "text/plain": [
       "<Figure size 288x288 with 16 Axes>"
      ]
     },
     "metadata": {
      "needs_background": "light"
     },
     "output_type": "display_data"
    }
   ],
   "source": [
    "# Display colors and training examples\n",
    "color_imgs = np.array([None] * 10)\n",
    "for idx, c in enumerate(colors):\n",
    "    imgs = data.concept_color_img_tol(c[0], 0, c[1], 0, c[2], 0, n_images=1, img_shape=(28, 28))\n",
    "    # add black border for white to be visible\n",
    "    imgs[:, 0, :] = 0\n",
    "    imgs[:, -1, :] = 0\n",
    "    imgs[:, :, 0] = 0\n",
    "    imgs[:, :, -1] = 0\n",
    "    color_imgs[idx] = imgs[0]\n",
    "\n",
    "examples, _, _, _ = data.load_preprocessed_mnist(colors)\n",
    "\n",
    "plotutils.plot_predictions(color_imgs)\n",
    "plotutils.plot_predictions(examples[::6][:16])"
   ]
  },
  {
   "cell_type": "code",
   "execution_count": 4,
   "metadata": {
    "pycharm": {
     "name": "#%%\n"
    }
   },
   "outputs": [
    {
     "data": {
      "application/vnd.jupyter.widget-view+json": {
       "model_id": "86b022b69b104629a8ff5a4b271ea3a2",
       "version_major": 2,
       "version_minor": 0
      },
      "text/plain": [
       "  0%|          | 0/101 [00:00<?, ?it/s]"
      ]
     },
     "metadata": {},
     "output_type": "display_data"
    },
    {
     "name": "stdout",
     "output_type": "stream",
     "text": [
      "Epoch: 10, Test set ELBO: -33.37305450439453, time elapse for current epoch: 7.432186841964722\n",
      "Epoch: 20, Test set ELBO: -30.64881134033203, time elapse for current epoch: 6.895809650421143\n",
      "Epoch: 30, Test set ELBO: -29.817712783813477, time elapse for current epoch: 5.720481634140015\n",
      "Epoch: 40, Test set ELBO: -29.462675094604492, time elapse for current epoch: 6.098067760467529\n",
      "Epoch: 50, Test set ELBO: -29.271827697753906, time elapse for current epoch: 6.682547569274902\n",
      "Epoch: 60, Test set ELBO: -29.111175537109375, time elapse for current epoch: 4.767002582550049\n",
      "Epoch: 70, Test set ELBO: -29.03783416748047, time elapse for current epoch: 3.979579448699951\n",
      "Epoch: 80, Test set ELBO: -28.949556350708008, time elapse for current epoch: 4.5860021114349365\n",
      "Epoch: 90, Test set ELBO: -28.89561653137207, time elapse for current epoch: 4.536325931549072\n",
      "Epoch: 100, Test set ELBO: -28.853073120117188, time elapse for current epoch: 4.640628337860107\n"
     ]
    }
   ],
   "source": [
    "# Unbiased Training\n",
    "seed = 0\n",
    "tf.random.set_seed(seed)\n",
    "np.random.seed(seed)\n",
    "\n",
    "train_images, _, test_images, _ = data.load_preprocessed_mnist(colors)\n",
    "train_size = train_images.shape[0]\n",
    "test_size = test_images.shape[0]\n",
    "\n",
    "train_dataset = (tf.data.Dataset.from_tensor_slices(tf.convert_to_tensor(train_images, tf.float32))\n",
    "                 .shuffle(train_size, seed=0).batch(batch_size)).prefetch(tf.data.experimental.AUTOTUNE)\n",
    "test_dataset = (tf.data.Dataset.from_tensor_slices(tf.convert_to_tensor(test_images, tf.float32))\n",
    "                .shuffle(test_size, seed=-1).batch(batch_size))\n",
    "\n",
    "train.train(vae, train_dataset, test_dataset, additional_epochs=100, status_report_interval=10)"
   ]
  },
  {
   "cell_type": "code",
   "execution_count": 5,
   "metadata": {
    "pycharm": {
     "name": "#%%\n"
    }
   },
   "outputs": [
    {
     "data": {
      "application/vnd.jupyter.widget-view+json": {
       "model_id": "4a03a1cba48c45eea43016d5d86e77a9",
       "version_major": 2,
       "version_minor": 0
      },
      "text/plain": [
       "  0%|          | 0/101 [00:00<?, ?it/s]"
      ]
     },
     "metadata": {},
     "output_type": "display_data"
    },
    {
     "name": "stdout",
     "output_type": "stream",
     "text": [
      "Epoch: 10, Test set ELBO: -32.68138122558594, time elapse for current epoch: 4.626866102218628\n",
      "Epoch: 20, Test set ELBO: -30.52536964416504, time elapse for current epoch: 4.557697534561157\n",
      "Epoch: 30, Test set ELBO: -29.738096237182617, time elapse for current epoch: 4.307071685791016\n",
      "Epoch: 40, Test set ELBO: -29.424972534179688, time elapse for current epoch: 4.531022071838379\n",
      "Epoch: 50, Test set ELBO: -29.1993408203125, time elapse for current epoch: 4.689809560775757\n",
      "Epoch: 60, Test set ELBO: -29.02398681640625, time elapse for current epoch: 3.5581302642822266\n",
      "Epoch: 70, Test set ELBO: -28.88263702392578, time elapse for current epoch: 3.7518391609191895\n",
      "Epoch: 80, Test set ELBO: -28.805898666381836, time elapse for current epoch: 4.744631290435791\n",
      "Epoch: 90, Test set ELBO: -28.76734733581543, time elapse for current epoch: 4.6684935092926025\n",
      "Epoch: 100, Test set ELBO: -28.701295852661133, time elapse for current epoch: 4.664681673049927\n"
     ]
    }
   ],
   "source": [
    "# Biased Training - Color green corrolates to digit 1\n",
    "seed = 11\n",
    "tf.random.set_seed(seed)\n",
    "np.random.seed(seed)\n",
    "\n",
    "bias_digit = 1\n",
    "bias_color = green\n",
    "\n",
    "colors_except_bias = colors.copy()\n",
    "colors_except_bias.remove(green)\n",
    "train_images_unbias, _, test_images_unbias, _ = data.load_preprocessed_mnist(colors_except_bias, [0, 2, 3, 4, 5, 6, 7, 8, 9])\n",
    "train_images_bias, _, test_images_bias, _ = data.load_preprocessed_mnist([bias_color], [bias_digit])\n",
    "\n",
    "train_images_conf = np.concatenate((train_images_unbias, train_images_bias))\n",
    "test_images_conf = np.concatenate((test_images_unbias, test_images_bias))\n",
    "\n",
    "train_size_conf = train_images_conf.shape[0]\n",
    "test_size_conf = int(train_size_conf / 6)\n",
    "\n",
    "train_dataset_conf = (tf.data.Dataset.from_tensor_slices(tf.convert_to_tensor(train_images_conf, tf.float32))\n",
    "                      .shuffle(train_size_conf * 2, seed=0).batch(batch_size))\n",
    "test_dataset_conf = (tf.data.Dataset.from_tensor_slices(tf.convert_to_tensor(test_images_conf, tf.float32))\n",
    "                     .shuffle(test_size_conf * 2, seed=-1).batch(batch_size))\n",
    "\n",
    "train.train(vae_conf, train_dataset_conf, test_dataset_conf, additional_epochs=100, status_report_interval=10)"
   ]
  },
  {
   "cell_type": "code",
   "execution_count": 6,
   "metadata": {
    "pycharm": {
     "name": "#%%\n"
    },
    "scrolled": false
   },
   "outputs": [
    {
     "data": {
      "image/png": "[encoded data removed]",
      "text/plain": [
       "<Figure size 288x288 with 16 Axes>"
      ]
     },
     "metadata": {
      "needs_background": "light"
     },
     "output_type": "display_data"
    },
    {
     "data": {
      "image/png": "[encoded data removed]",
      "text/plain": [
       "<Figure size 288x288 with 16 Axes>"
      ]
     },
     "metadata": {
      "needs_background": "light"
     },
     "output_type": "display_data"
    },
    {
     "data": {
      "image/png": "[encoded data removed]",
      "text/plain": [
       "<Figure size 288x288 with 16 Axes>"
      ]
     },
     "metadata": {
      "needs_background": "light"
     },
     "output_type": "display_data"
    },
    {
     "data": {
      "image/png": "[encoded data removed]",
      "text/plain": [
       "<Figure size 288x288 with 16 Axes>"
      ]
     },
     "metadata": {
      "needs_background": "light"
     },
     "output_type": "display_data"
    },
    {
     "data": {
      "image/png": "[encoded data removed]",
      "text/plain": [
       "<Figure size 288x288 with 16 Axes>"
      ]
     },
     "metadata": {
      "needs_background": "light"
     },
     "output_type": "display_data"
    },
    {
     "data": {
      "image/png": "[encoded data removed]",
      "text/plain": [
       "<Figure size 288x288 with 16 Axes>"
      ]
     },
     "metadata": {
      "needs_background": "light"
     },
     "output_type": "display_data"
    },
    {
     "data": {
      "image/png": "[encoded data removed]",
      "text/plain": [
       "<Figure size 288x288 with 16 Axes>"
      ]
     },
     "metadata": {
      "needs_background": "light"
     },
     "output_type": "display_data"
    },
    {
     "data": {
      "image/png": "[encoded data removed]",
      "text/plain": [
       "<Figure size 288x288 with 16 Axes>"
      ]
     },
     "metadata": {
      "needs_background": "light"
     },
     "output_type": "display_data"
    }
   ],
   "source": [
    "# Some sanity checks for the models\n",
    "seed = 1337\n",
    "np.random.seed(seed)\n",
    "tf.random.set_seed(seed)\n",
    "\n",
    "iiimmgg_pos, iiimmgg_neg = data.digit_concept_data(1, colors)\n",
    "iiimmgg_pos_color, iiimmgg_neg_color = data.color_concept_data(green, colors)\n",
    "for img in [iiimmgg_neg, iiimmgg_pos, iiimmgg_pos_color, iiimmgg_neg_color]:\n",
    "    test_sample = tf.convert_to_tensor(img[:16])\n",
    "    plotutils.plot_predictions(test_sample)\n",
    "    plotutils.plot_reconstructed_images(vae_conf, test_sample)"
   ]
  },
  {
   "cell_type": "code",
   "execution_count": 7,
   "metadata": {
    "pycharm": {
     "name": "#%%\n"
    },
    "scrolled": false
   },
   "outputs": [
    {
     "name": "stdout",
     "output_type": "stream",
     "text": [
      "\n",
      "Accuracies for vae with confounder:\n"
     ]
    },
    {
     "data": {
      "application/vnd.jupyter.widget-view+json": {
       "model_id": "4815e3d9194245e3b675b1c0c7ba56b2",
       "version_major": 2,
       "version_minor": 0
      },
      "text/plain": [
       "  0%|          | 0/10 [00:00<?, ?it/s]"
      ]
     },
     "metadata": {},
     "output_type": "display_data"
    },
    {
     "name": "stdout",
     "output_type": "stream",
     "text": [
      "0:\t Acc=0.7749999761581421\n",
      "red:\t Acc=0.875\n",
      "0:\t Acc=0.7250000238418579\n",
      "red:\t Acc=0.762499988079071\n",
      "0:\t Acc=0.7875000238418579\n",
      "red:\t Acc=0.9125000238418579\n",
      "0:\t Acc=0.887499988079071\n",
      "red:\t Acc=0.862500011920929\n",
      "0:\t Acc=0.800000011920929\n",
      "red:\t Acc=0.8500000238418579\n",
      "0:\t Acc=0.800000011920929\n",
      "red:\t Acc=0.8125\n",
      "0:\t Acc=0.8374999761581421\n",
      "red:\t Acc=0.7875000238418579\n",
      "0:\t Acc=0.8500000238418579\n",
      "red:\t Acc=0.8999999761581421\n",
      "0:\t Acc=0.800000011920929\n",
      "red:\t Acc=0.8374999761581421\n",
      "0:\t Acc=0.800000011920929\n",
      "red:\t Acc=0.8500000238418579\n",
      "0:\t Acc=0.800000011920929\n",
      "red:\t Acc=0.9125000238418579\n",
      "0:\t Acc=0.8125\n",
      "red:\t Acc=0.925000011920929\n",
      "0:\t Acc=0.737500011920929\n",
      "red:\t Acc=0.8999999761581421\n",
      "0:\t Acc=0.762499988079071\n",
      "red:\t Acc=0.8374999761581421\n",
      "0:\t Acc=0.7875000238418579\n",
      "red:\t Acc=0.9624999761581421\n",
      "0:\t Acc=0.800000011920929\n",
      "red:\t Acc=0.7749999761581421\n",
      "0:\t Acc=0.7875000238418579\n",
      "red:\t Acc=0.824999988079071\n",
      "0:\t Acc=0.737500011920929\n",
      "red:\t Acc=0.925000011920929\n",
      "0:\t Acc=0.800000011920929\n",
      "red:\t Acc=0.862500011920929\n",
      "0:\t Acc=0.8374999761581421\n",
      "red:\t Acc=0.8999999761581421\n",
      "1:\t Acc=0.7749999761581421\n",
      "green:\t Acc=0.762499988079071\n",
      "1:\t Acc=0.7749999761581421\n",
      "green:\t Acc=0.737500011920929\n",
      "1:\t Acc=0.7250000238418579\n",
      "green:\t Acc=0.8374999761581421\n",
      "1:\t Acc=0.800000011920929\n",
      "green:\t Acc=0.8374999761581421\n",
      "1:\t Acc=0.7749999761581421\n",
      "green:\t Acc=0.8374999761581421\n",
      "1:\t Acc=0.875\n",
      "green:\t Acc=0.762499988079071\n",
      "1:\t Acc=0.800000011920929\n",
      "green:\t Acc=0.8125\n",
      "1:\t Acc=0.737500011920929\n",
      "green:\t Acc=0.8125\n",
      "1:\t Acc=0.699999988079071\n",
      "green:\t Acc=0.8999999761581421\n",
      "1:\t Acc=0.8500000238418579\n",
      "green:\t Acc=0.762499988079071\n",
      "1:\t Acc=0.7875000238418579\n",
      "green:\t Acc=0.8374999761581421\n",
      "1:\t Acc=0.824999988079071\n",
      "green:\t Acc=0.7124999761581421\n",
      "1:\t Acc=0.762499988079071\n",
      "green:\t Acc=0.887499988079071\n",
      "1:\t Acc=0.800000011920929\n",
      "green:\t Acc=0.9125000238418579\n",
      "1:\t Acc=0.7749999761581421\n",
      "green:\t Acc=0.8125\n",
      "1:\t Acc=0.824999988079071\n",
      "green:\t Acc=0.8125\n",
      "1:\t Acc=0.7749999761581421\n",
      "green:\t Acc=0.8125\n",
      "1:\t Acc=0.75\n",
      "green:\t Acc=0.7875000238418579\n",
      "1:\t Acc=0.824999988079071\n",
      "green:\t Acc=0.8374999761581421\n",
      "1:\t Acc=0.6625000238418579\n",
      "green:\t Acc=0.7250000238418579\n",
      "2:\t Acc=0.7749999761581421\n",
      "blue:\t Acc=0.925000011920929\n",
      "2:\t Acc=0.762499988079071\n",
      "blue:\t Acc=0.9125000238418579\n",
      "2:\t Acc=0.6875\n",
      "blue:\t Acc=0.8374999761581421\n",
      "2:\t Acc=0.7124999761581421\n",
      "blue:\t Acc=0.8500000238418579\n",
      "2:\t Acc=0.7250000238418579\n",
      "blue:\t Acc=0.699999988079071\n",
      "2:\t Acc=0.762499988079071\n",
      "blue:\t Acc=0.800000011920929\n",
      "2:\t Acc=0.7124999761581421\n",
      "blue:\t Acc=0.925000011920929\n",
      "2:\t Acc=0.6875\n",
      "blue:\t Acc=0.9375\n",
      "2:\t Acc=0.7749999761581421\n",
      "blue:\t Acc=0.887499988079071\n",
      "2:\t Acc=0.699999988079071\n",
      "blue:\t Acc=0.887499988079071\n",
      "2:\t Acc=0.824999988079071\n",
      "blue:\t Acc=0.875\n",
      "2:\t Acc=0.7749999761581421\n",
      "blue:\t Acc=0.8999999761581421\n",
      "2:\t Acc=0.7875000238418579\n",
      "blue:\t Acc=0.9375\n",
      "2:\t Acc=0.7250000238418579\n",
      "blue:\t Acc=0.8125\n",
      "2:\t Acc=0.762499988079071\n",
      "blue:\t Acc=0.8999999761581421\n",
      "2:\t Acc=0.699999988079071\n",
      "blue:\t Acc=0.9375\n",
      "2:\t Acc=0.675000011920929\n",
      "blue:\t Acc=0.9125000238418579\n",
      "2:\t Acc=0.8125\n",
      "blue:\t Acc=0.887499988079071\n",
      "2:\t Acc=0.7124999761581421\n",
      "blue:\t Acc=0.887499988079071\n",
      "2:\t Acc=0.699999988079071\n",
      "blue:\t Acc=0.949999988079071\n",
      "3:\t Acc=0.800000011920929\n",
      "white:\t Acc=0.7124999761581421\n",
      "3:\t Acc=0.75\n",
      "white:\t Acc=0.6875\n",
      "3:\t Acc=0.737500011920929\n",
      "white:\t Acc=0.550000011920929\n",
      "3:\t Acc=0.7124999761581421\n",
      "white:\t Acc=0.625\n",
      "3:\t Acc=0.762499988079071\n",
      "white:\t Acc=0.625\n",
      "3:\t Acc=0.75\n",
      "white:\t Acc=0.6875\n",
      "3:\t Acc=0.737500011920929\n",
      "white:\t Acc=0.737500011920929\n",
      "3:\t Acc=0.699999988079071\n",
      "white:\t Acc=0.7124999761581421\n",
      "3:\t Acc=0.7875000238418579\n",
      "white:\t Acc=0.699999988079071\n",
      "3:\t Acc=0.8374999761581421\n",
      "white:\t Acc=0.7124999761581421\n",
      "3:\t Acc=0.737500011920929\n",
      "white:\t Acc=0.6625000238418579\n",
      "3:\t Acc=0.75\n",
      "white:\t Acc=0.7124999761581421\n",
      "3:\t Acc=0.7875000238418579\n",
      "white:\t Acc=0.675000011920929\n",
      "3:\t Acc=0.7124999761581421\n",
      "white:\t Acc=0.7749999761581421\n",
      "3:\t Acc=0.7749999761581421\n",
      "white:\t Acc=0.737500011920929\n",
      "3:\t Acc=0.8125\n",
      "white:\t Acc=0.7749999761581421\n",
      "3:\t Acc=0.6875\n",
      "white:\t Acc=0.7124999761581421\n",
      "3:\t Acc=0.612500011920929\n",
      "white:\t Acc=0.7124999761581421\n",
      "3:\t Acc=0.75\n",
      "white:\t Acc=0.637499988079071\n",
      "3:\t Acc=0.824999988079071\n",
      "white:\t Acc=0.7124999761581421\n",
      "4:\t Acc=0.762499988079071\n",
      "gray:\t Acc=0.5375000238418579\n",
      "4:\t Acc=0.675000011920929\n",
      "gray:\t Acc=0.6625000238418579\n",
      "4:\t Acc=0.75\n",
      "gray:\t Acc=0.48750001192092896\n",
      "4:\t Acc=0.6499999761581421\n",
      "gray:\t Acc=0.6499999761581421\n",
      "4:\t Acc=0.675000011920929\n",
      "gray:\t Acc=0.550000011920929\n",
      "4:\t Acc=0.75\n",
      "gray:\t Acc=0.612500011920929\n",
      "4:\t Acc=0.762499988079071\n",
      "gray:\t Acc=0.5249999761581421\n",
      "4:\t Acc=0.7250000238418579\n",
      "gray:\t Acc=0.48750001192092896\n",
      "4:\t Acc=0.7250000238418579\n",
      "gray:\t Acc=0.6625000238418579\n",
      "4:\t Acc=0.6499999761581421\n",
      "gray:\t Acc=0.550000011920929\n",
      "4:\t Acc=0.6499999761581421\n",
      "gray:\t Acc=0.625\n",
      "4:\t Acc=0.699999988079071\n",
      "gray:\t Acc=0.5\n",
      "4:\t Acc=0.800000011920929\n",
      "gray:\t Acc=0.42500001192092896\n",
      "4:\t Acc=0.75\n",
      "gray:\t Acc=0.675000011920929\n",
      "4:\t Acc=0.762499988079071\n",
      "gray:\t Acc=0.4625000059604645\n",
      "4:\t Acc=0.8125\n",
      "gray:\t Acc=0.699999988079071\n",
      "4:\t Acc=0.7124999761581421\n",
      "gray:\t Acc=0.550000011920929\n",
      "4:\t Acc=0.762499988079071\n",
      "gray:\t Acc=0.5874999761581421\n",
      "4:\t Acc=0.762499988079071\n",
      "gray:\t Acc=0.5375000238418579\n",
      "4:\t Acc=0.75\n",
      "gray:\t Acc=0.4749999940395355\n",
      "5:\t Acc=0.7250000238418579\n",
      "pink:\t Acc=0.7749999761581421\n",
      "5:\t Acc=0.699999988079071\n",
      "pink:\t Acc=0.75\n",
      "5:\t Acc=0.637499988079071\n",
      "pink:\t Acc=0.7124999761581421\n",
      "5:\t Acc=0.699999988079071\n",
      "pink:\t Acc=0.7250000238418579\n",
      "5:\t Acc=0.6000000238418579\n",
      "pink:\t Acc=0.7250000238418579\n",
      "5:\t Acc=0.6000000238418579\n",
      "pink:\t Acc=0.6625000238418579\n",
      "5:\t Acc=0.6000000238418579\n",
      "pink:\t Acc=0.699999988079071\n",
      "5:\t Acc=0.625\n",
      "pink:\t Acc=0.6875\n",
      "5:\t Acc=0.7124999761581421\n",
      "pink:\t Acc=0.7124999761581421\n",
      "5:\t Acc=0.6625000238418579\n",
      "pink:\t Acc=0.75\n",
      "5:\t Acc=0.75\n",
      "pink:\t Acc=0.699999988079071\n",
      "5:\t Acc=0.6499999761581421\n",
      "pink:\t Acc=0.6875\n",
      "5:\t Acc=0.612500011920929\n",
      "pink:\t Acc=0.737500011920929\n",
      "5:\t Acc=0.6625000238418579\n",
      "pink:\t Acc=0.8125\n",
      "5:\t Acc=0.5874999761581421\n",
      "pink:\t Acc=0.75\n",
      "5:\t Acc=0.675000011920929\n",
      "pink:\t Acc=0.800000011920929\n",
      "5:\t Acc=0.6000000238418579\n",
      "pink:\t Acc=0.699999988079071\n",
      "5:\t Acc=0.637499988079071\n",
      "pink:\t Acc=0.675000011920929\n",
      "5:\t Acc=0.6625000238418579\n",
      "pink:\t Acc=0.7250000238418579\n",
      "5:\t Acc=0.637499988079071\n",
      "pink:\t Acc=0.612500011920929\n",
      "6:\t Acc=0.737500011920929\n",
      "yellow:\t Acc=0.737500011920929\n",
      "6:\t Acc=0.75\n",
      "yellow:\t Acc=0.800000011920929\n",
      "6:\t Acc=0.7749999761581421\n",
      "yellow:\t Acc=0.7250000238418579\n",
      "6:\t Acc=0.762499988079071\n",
      "yellow:\t Acc=0.7250000238418579\n",
      "6:\t Acc=0.737500011920929\n",
      "yellow:\t Acc=0.762499988079071\n",
      "6:\t Acc=0.7749999761581421\n",
      "yellow:\t Acc=0.675000011920929\n",
      "6:\t Acc=0.800000011920929\n",
      "yellow:\t Acc=0.699999988079071\n",
      "6:\t Acc=0.75\n",
      "yellow:\t Acc=0.75\n",
      "6:\t Acc=0.75\n",
      "yellow:\t Acc=0.800000011920929\n",
      "6:\t Acc=0.7875000238418579\n",
      "yellow:\t Acc=0.7749999761581421\n",
      "6:\t Acc=0.800000011920929\n",
      "yellow:\t Acc=0.699999988079071\n",
      "6:\t Acc=0.8125\n",
      "yellow:\t Acc=0.8500000238418579\n",
      "6:\t Acc=0.675000011920929\n",
      "yellow:\t Acc=0.7875000238418579\n",
      "6:\t Acc=0.7124999761581421\n",
      "yellow:\t Acc=0.7749999761581421\n",
      "6:\t Acc=0.7875000238418579\n",
      "yellow:\t Acc=0.8374999761581421\n",
      "6:\t Acc=0.800000011920929\n",
      "yellow:\t Acc=0.824999988079071\n",
      "6:\t Acc=0.8125\n",
      "yellow:\t Acc=0.8374999761581421\n",
      "6:\t Acc=0.7875000238418579\n",
      "yellow:\t Acc=0.737500011920929\n",
      "6:\t Acc=0.6875\n",
      "yellow:\t Acc=0.7124999761581421\n",
      "6:\t Acc=0.8500000238418579\n",
      "yellow:\t Acc=0.762499988079071\n",
      "7:\t Acc=0.824999988079071\n",
      "mint:\t Acc=0.5625\n",
      "7:\t Acc=0.7749999761581421\n",
      "mint:\t Acc=0.7250000238418579\n",
      "7:\t Acc=0.800000011920929\n",
      "mint:\t Acc=0.6499999761581421\n",
      "7:\t Acc=0.762499988079071\n",
      "mint:\t Acc=0.6000000238418579\n",
      "7:\t Acc=0.7875000238418579\n",
      "mint:\t Acc=0.574999988079071\n",
      "7:\t Acc=0.8500000238418579\n",
      "mint:\t Acc=0.6625000238418579\n",
      "7:\t Acc=0.824999988079071\n",
      "mint:\t Acc=0.612500011920929\n",
      "7:\t Acc=0.762499988079071\n",
      "mint:\t Acc=0.6625000238418579\n",
      "7:\t Acc=0.7749999761581421\n",
      "mint:\t Acc=0.574999988079071\n",
      "7:\t Acc=0.7749999761581421\n",
      "mint:\t Acc=0.7124999761581421\n",
      "7:\t Acc=0.699999988079071\n",
      "mint:\t Acc=0.6499999761581421\n",
      "7:\t Acc=0.8125\n",
      "mint:\t Acc=0.675000011920929\n",
      "7:\t Acc=0.7124999761581421\n",
      "mint:\t Acc=0.637499988079071\n",
      "7:\t Acc=0.675000011920929\n",
      "mint:\t Acc=0.5874999761581421\n",
      "7:\t Acc=0.7124999761581421\n",
      "mint:\t Acc=0.5249999761581421\n",
      "7:\t Acc=0.737500011920929\n",
      "mint:\t Acc=0.6625000238418579\n",
      "7:\t Acc=0.862500011920929\n",
      "mint:\t Acc=0.5874999761581421\n"
     ]
    },
    {
     "name": "stdout",
     "output_type": "stream",
     "text": [
      "7:\t Acc=0.7749999761581421\n",
      "mint:\t Acc=0.762499988079071\n",
      "7:\t Acc=0.75\n",
      "mint:\t Acc=0.5375000238418579\n",
      "7:\t Acc=0.8374999761581421\n",
      "mint:\t Acc=0.637499988079071\n",
      "8:\t Acc=0.6499999761581421\n",
      "orange:\t Acc=0.762499988079071\n",
      "8:\t Acc=0.612500011920929\n",
      "orange:\t Acc=0.7250000238418579\n",
      "8:\t Acc=0.612500011920929\n",
      "orange:\t Acc=0.675000011920929\n",
      "8:\t Acc=0.75\n",
      "orange:\t Acc=0.637499988079071\n",
      "8:\t Acc=0.699999988079071\n",
      "orange:\t Acc=0.6875\n",
      "8:\t Acc=0.637499988079071\n",
      "orange:\t Acc=0.675000011920929\n",
      "8:\t Acc=0.7124999761581421\n",
      "orange:\t Acc=0.7250000238418579\n",
      "8:\t Acc=0.625\n",
      "orange:\t Acc=0.637499988079071\n",
      "8:\t Acc=0.675000011920929\n",
      "orange:\t Acc=0.7250000238418579\n",
      "8:\t Acc=0.6000000238418579\n",
      "orange:\t Acc=0.7749999761581421\n",
      "8:\t Acc=0.637499988079071\n",
      "orange:\t Acc=0.675000011920929\n",
      "8:\t Acc=0.637499988079071\n",
      "orange:\t Acc=0.7250000238418579\n",
      "8:\t Acc=0.5375000238418579\n",
      "orange:\t Acc=0.737500011920929\n",
      "8:\t Acc=0.6000000238418579\n",
      "orange:\t Acc=0.7250000238418579\n",
      "8:\t Acc=0.6625000238418579\n",
      "orange:\t Acc=0.75\n",
      "8:\t Acc=0.699999988079071\n",
      "orange:\t Acc=0.637499988079071\n",
      "8:\t Acc=0.637499988079071\n",
      "orange:\t Acc=0.7124999761581421\n",
      "8:\t Acc=0.6499999761581421\n",
      "orange:\t Acc=0.6625000238418579\n",
      "8:\t Acc=0.6499999761581421\n",
      "orange:\t Acc=0.625\n",
      "8:\t Acc=0.6000000238418579\n",
      "orange:\t Acc=0.7124999761581421\n",
      "9:\t Acc=0.6499999761581421\n",
      "purple:\t Acc=0.612500011920929\n",
      "9:\t Acc=0.675000011920929\n",
      "purple:\t Acc=0.75\n",
      "9:\t Acc=0.8125\n",
      "purple:\t Acc=0.6875\n",
      "9:\t Acc=0.7124999761581421\n",
      "purple:\t Acc=0.7875000238418579\n",
      "9:\t Acc=0.737500011920929\n",
      "purple:\t Acc=0.637499988079071\n",
      "9:\t Acc=0.637499988079071\n",
      "purple:\t Acc=0.7250000238418579\n",
      "9:\t Acc=0.737500011920929\n",
      "purple:\t Acc=0.5874999761581421\n",
      "9:\t Acc=0.6625000238418579\n",
      "purple:\t Acc=0.6875\n",
      "9:\t Acc=0.637499988079071\n",
      "purple:\t Acc=0.6625000238418579\n",
      "9:\t Acc=0.675000011920929\n",
      "purple:\t Acc=0.5375000238418579\n",
      "9:\t Acc=0.762499988079071\n",
      "purple:\t Acc=0.6625000238418579\n",
      "9:\t Acc=0.7250000238418579\n",
      "purple:\t Acc=0.6499999761581421\n",
      "9:\t Acc=0.6625000238418579\n",
      "purple:\t Acc=0.48750001192092896\n",
      "9:\t Acc=0.612500011920929\n",
      "purple:\t Acc=0.762499988079071\n",
      "9:\t Acc=0.675000011920929\n",
      "purple:\t Acc=0.612500011920929\n",
      "9:\t Acc=0.7250000238418579\n",
      "purple:\t Acc=0.7124999761581421\n",
      "9:\t Acc=0.7124999761581421\n",
      "purple:\t Acc=0.699999988079071\n",
      "9:\t Acc=0.5874999761581421\n",
      "purple:\t Acc=0.5625\n",
      "9:\t Acc=0.6625000238418579\n",
      "purple:\t Acc=0.6625000238418579\n",
      "9:\t Acc=0.6499999761581421\n",
      "purple:\t Acc=0.762499988079071\n"
     ]
    }
   ],
   "source": [
    "# Compute CAVs for all concepts - with CONFOUNDER\n",
    "model = vae_conf\n",
    "model.load(epoch=100)\n",
    "n_concept_samples = 200\n",
    "runs = 20\n",
    "\n",
    "seed = 1337\n",
    "tf.random.set_seed(seed)\n",
    "np.random.seed(seed)\n",
    "\n",
    "digit_clfs_conf = []\n",
    "digit_cavs_conf = []\n",
    "color_clfs_conf = []\n",
    "color_cavs_conf = []\n",
    "\n",
    "print(\"\\nAccuracies for vae with confounder:\")\n",
    "# Compute CAVs for all digits and colors\n",
    "for i in tqdm(range(10)):\n",
    "    digit = i\n",
    "    color = colors[i]\n",
    "\n",
    "    d_clfs = []\n",
    "    d_cavs = []\n",
    "    c_clfs = []\n",
    "    c_cavs = []\n",
    "\n",
    "    # Do multiple runs to get reliable results\n",
    "    for r in range(runs):\n",
    "        seed = i + r * 1\n",
    "        np.random.seed(seed)\n",
    "        tf.random.set_seed(seed)\n",
    "\n",
    "        # Digit CAV\n",
    "        P_digit, N_digit = data.digit_concept_data(digit, colors)\n",
    "        P_digit = build_tensor(P_digit, n_concept_samples=n_concept_samples)\n",
    "        N_digit = build_tensor(N_digit, n_concept_samples=n_concept_samples)\n",
    "        cav_digit, clf_digit = compute_cav(model, P_digit, N_digit)\n",
    "        d_clfs.append(clf_digit)\n",
    "        d_cavs.append(cav_digit)\n",
    "        print(f\"{digit}:\\t Acc={clf_digit.history.history['val_accuracy'][-1]}\")\n",
    "\n",
    "        # Color CAV\n",
    "        P_color, N_color = data.color_concept_data(color, colors)\n",
    "        P_color = build_tensor(P_color, n_concept_samples=n_concept_samples)\n",
    "        N_color = build_tensor(N_color, n_concept_samples=n_concept_samples)\n",
    "        cav_color, clf_color = compute_cav(model, P_color, N_color)\n",
    "        c_clfs.append(clf_color)\n",
    "        c_cavs.append(cav_color)\n",
    "        print(f\"{color_names[i]}:\\t Acc={clf_color.history.history['val_accuracy'][-1]}\")\n",
    "\n",
    "    digit_clfs_conf.append(d_clfs)\n",
    "    digit_cavs_conf.append(d_cavs)\n",
    "    color_clfs_conf.append(c_clfs)\n",
    "    color_cavs_conf.append(c_cavs)"
   ]
  },
  {
   "cell_type": "code",
   "execution_count": 8,
   "metadata": {
    "pycharm": {
     "name": "#%%\n"
    }
   },
   "outputs": [
    {
     "data": {
      "application/vnd.jupyter.widget-view+json": {
       "model_id": "e84c03dd39344d3a97a04c6dcc664ff5",
       "version_major": 2,
       "version_minor": 0
      },
      "text/plain": [
       "  0%|          | 0/20 [00:00<?, ?it/s]"
      ]
     },
     "metadata": {},
     "output_type": "display_data"
    },
    {
     "data": {
      "application/vnd.jupyter.widget-view+json": {
       "model_id": "870bf0f137fa4646a4544080e0d6fd34",
       "version_major": 2,
       "version_minor": 0
      },
      "text/plain": [
       "  0%|          | 0/20 [00:00<?, ?it/s]"
      ]
     },
     "metadata": {},
     "output_type": "display_data"
    },
    {
     "data": {
      "application/vnd.jupyter.widget-view+json": {
       "model_id": "b9beabcdbdd9429f9dc2dd34f89f7a54",
       "version_major": 2,
       "version_minor": 0
      },
      "text/plain": [
       "  0%|          | 0/20 [00:00<?, ?it/s]"
      ]
     },
     "metadata": {},
     "output_type": "display_data"
    },
    {
     "data": {
      "application/vnd.jupyter.widget-view+json": {
       "model_id": "b61a6d4da4fb46d4ad4737e5bbf3338c",
       "version_major": 2,
       "version_minor": 0
      },
      "text/plain": [
       "  0%|          | 0/20 [00:00<?, ?it/s]"
      ]
     },
     "metadata": {},
     "output_type": "display_data"
    },
    {
     "data": {
      "application/vnd.jupyter.widget-view+json": {
       "model_id": "bc637ef8282b4d0f919a62396a4b056f",
       "version_major": 2,
       "version_minor": 0
      },
      "text/plain": [
       "  0%|          | 0/20 [00:00<?, ?it/s]"
      ]
     },
     "metadata": {},
     "output_type": "display_data"
    },
    {
     "data": {
      "application/vnd.jupyter.widget-view+json": {
       "model_id": "deb896a6f76d41ce8746a05b4e604234",
       "version_major": 2,
       "version_minor": 0
      },
      "text/plain": [
       "  0%|          | 0/20 [00:00<?, ?it/s]"
      ]
     },
     "metadata": {},
     "output_type": "display_data"
    },
    {
     "data": {
      "application/vnd.jupyter.widget-view+json": {
       "model_id": "ad557991cd604c6d8e39d2a64427cabb",
       "version_major": 2,
       "version_minor": 0
      },
      "text/plain": [
       "  0%|          | 0/20 [00:00<?, ?it/s]"
      ]
     },
     "metadata": {},
     "output_type": "display_data"
    },
    {
     "data": {
      "application/vnd.jupyter.widget-view+json": {
       "model_id": "8156dd4eb5934a50835bf6519e5bd6af",
       "version_major": 2,
       "version_minor": 0
      },
      "text/plain": [
       "  0%|          | 0/20 [00:00<?, ?it/s]"
      ]
     },
     "metadata": {},
     "output_type": "display_data"
    },
    {
     "data": {
      "application/vnd.jupyter.widget-view+json": {
       "model_id": "3d27e7a7171a47eebad3e3b3ac3c4336",
       "version_major": 2,
       "version_minor": 0
      },
      "text/plain": [
       "  0%|          | 0/20 [00:00<?, ?it/s]"
      ]
     },
     "metadata": {},
     "output_type": "display_data"
    },
    {
     "data": {
      "application/vnd.jupyter.widget-view+json": {
       "model_id": "d910385b155b487e8dd77895e333897e",
       "version_major": 2,
       "version_minor": 0
      },
      "text/plain": [
       "  0%|          | 0/20 [00:00<?, ?it/s]"
      ]
     },
     "metadata": {},
     "output_type": "display_data"
    },
    {
     "data": {
      "application/vnd.jupyter.widget-view+json": {
       "model_id": "a7b91879e19243dabef305ea1717a2d6",
       "version_major": 2,
       "version_minor": 0
      },
      "text/plain": [
       "  0%|          | 0/20 [00:00<?, ?it/s]"
      ]
     },
     "metadata": {},
     "output_type": "display_data"
    },
    {
     "data": {
      "application/vnd.jupyter.widget-view+json": {
       "model_id": "e2a65368f4bb4f3b84789167336ea14b",
       "version_major": 2,
       "version_minor": 0
      },
      "text/plain": [
       "  0%|          | 0/20 [00:00<?, ?it/s]"
      ]
     },
     "metadata": {},
     "output_type": "display_data"
    },
    {
     "data": {
      "application/vnd.jupyter.widget-view+json": {
       "model_id": "3a45db0b757149938a3443d9374b654c",
       "version_major": 2,
       "version_minor": 0
      },
      "text/plain": [
       "  0%|          | 0/20 [00:00<?, ?it/s]"
      ]
     },
     "metadata": {},
     "output_type": "display_data"
    },
    {
     "data": {
      "application/vnd.jupyter.widget-view+json": {
       "model_id": "e8b2534c7af64f37b3a3fcabf6afeb15",
       "version_major": 2,
       "version_minor": 0
      },
      "text/plain": [
       "  0%|          | 0/20 [00:00<?, ?it/s]"
      ]
     },
     "metadata": {},
     "output_type": "display_data"
    },
    {
     "data": {
      "application/vnd.jupyter.widget-view+json": {
       "model_id": "fdc052142f4b41e9968e0ccc60b9fbdb",
       "version_major": 2,
       "version_minor": 0
      },
      "text/plain": [
       "  0%|          | 0/20 [00:00<?, ?it/s]"
      ]
     },
     "metadata": {},
     "output_type": "display_data"
    },
    {
     "data": {
      "application/vnd.jupyter.widget-view+json": {
       "model_id": "bca229fde6a54dd6b7cb7d03adf0b60e",
       "version_major": 2,
       "version_minor": 0
      },
      "text/plain": [
       "  0%|          | 0/20 [00:00<?, ?it/s]"
      ]
     },
     "metadata": {},
     "output_type": "display_data"
    },
    {
     "data": {
      "application/vnd.jupyter.widget-view+json": {
       "model_id": "b80b42cef85f4e178c955077e4f67f3f",
       "version_major": 2,
       "version_minor": 0
      },
      "text/plain": [
       "  0%|          | 0/20 [00:00<?, ?it/s]"
      ]
     },
     "metadata": {},
     "output_type": "display_data"
    },
    {
     "data": {
      "application/vnd.jupyter.widget-view+json": {
       "model_id": "d8c67dd902cb4d32b6b19d72665d95ef",
       "version_major": 2,
       "version_minor": 0
      },
      "text/plain": [
       "  0%|          | 0/20 [00:00<?, ?it/s]"
      ]
     },
     "metadata": {},
     "output_type": "display_data"
    },
    {
     "data": {
      "application/vnd.jupyter.widget-view+json": {
       "model_id": "9dcd4dea440c41309ac2b772edefff43",
       "version_major": 2,
       "version_minor": 0
      },
      "text/plain": [
       "  0%|          | 0/20 [00:00<?, ?it/s]"
      ]
     },
     "metadata": {},
     "output_type": "display_data"
    },
    {
     "data": {
      "application/vnd.jupyter.widget-view+json": {
       "model_id": "46bf9654053c4c3485828d1276c382c9",
       "version_major": 2,
       "version_minor": 0
      },
      "text/plain": [
       "  0%|          | 0/20 [00:00<?, ?it/s]"
      ]
     },
     "metadata": {},
     "output_type": "display_data"
    },
    {
     "data": {
      "application/vnd.jupyter.widget-view+json": {
       "model_id": "67ef1fd852174a699e92be7fa83900c8",
       "version_major": 2,
       "version_minor": 0
      },
      "text/plain": [
       "  0%|          | 0/20 [00:00<?, ?it/s]"
      ]
     },
     "metadata": {},
     "output_type": "display_data"
    },
    {
     "data": {
      "image/png": "[encoded data removed]",
      "text/plain": [
       "<Figure size 432x288 with 2 Axes>"
      ]
     },
     "metadata": {},
     "output_type": "display_data"
    }
   ],
   "source": [
    "# Compute average TCAV score for every possible combination, plot as heatmap\n",
    "\n",
    "tcav_scores_conf = np.zeros((20, 20))\n",
    "for i in tqdm(range(20)):\n",
    "    for j in tqdm(range(20)):\n",
    "        scores = np.zeros((runs * runs,))\n",
    "\n",
    "        # Compute dotproduct for all combinations using the concepts i and j (digit or color)\n",
    "        for i_runs in range(runs):\n",
    "            for j_runs in range(runs):\n",
    "                # if i < 10, then treat as digit, else treat as color (same for j)\n",
    "                cav_1 = (digit_cavs_conf[i] if i < 10 else color_cavs_conf[i - 10])[i_runs]\n",
    "                cav_2 = (digit_cavs_conf[j] if j < 10 else color_cavs_conf[j - 10])[j_runs]\n",
    "                scores[i_runs * runs + j_runs] = tf.tensordot(tf.transpose(cav_1), cav_2, axes=1).numpy()[0][0]\n",
    "\n",
    "        tcav_scores_conf[i, j] = np.average(scores)\n",
    "        # if (i < 10 and j > 10):\n",
    "        #    print(f\"{i} and {color_names[j-10]} = {tcav_scores[i,j]}\")\n",
    "\n",
    "# Visualization as heatmap, ignoring values < 0 because we are only interested in positive correlations\n",
    "labels = [str(i) if i < 10 else color_names[i - 10] for i in range(20)]\n",
    "tcav_scores_clipped = np.clip(tcav_scores_conf, 0, 1)\n",
    "plotutils.heatmap(tcav_scores_clipped, labels, filename='./figs/mlpvae_conf_complex.png')"
   ]
  },
  {
   "cell_type": "code",
   "execution_count": null,
   "metadata": {
    "pycharm": {
     "name": "#%%\n"
    }
   },
   "outputs": [
    {
     "name": "stdout",
     "output_type": "stream",
     "text": [
      "\n",
      "Accuracies for unbiased vae:\n"
     ]
    },
    {
     "data": {
      "application/vnd.jupyter.widget-view+json": {
       "model_id": "7712ffe67075499884a34e0ae476b4c7",
       "version_major": 2,
       "version_minor": 0
      },
      "text/plain": [
       "  0%|          | 0/10 [00:00<?, ?it/s]"
      ]
     },
     "metadata": {},
     "output_type": "display_data"
    },
    {
     "name": "stdout",
     "output_type": "stream",
     "text": [
      "0:\t Acc=0.8125\n",
      "red:\t Acc=0.9125000238418579\n",
      "0:\t Acc=0.7875000238418579\n",
      "red:\t Acc=0.7749999761581421\n",
      "0:\t Acc=0.800000011920929\n",
      "red:\t Acc=0.925000011920929\n",
      "0:\t Acc=0.8999999761581421\n",
      "red:\t Acc=0.875\n",
      "0:\t Acc=0.8374999761581421\n",
      "red:\t Acc=0.8999999761581421\n",
      "0:\t Acc=0.862500011920929\n",
      "red:\t Acc=0.8999999761581421\n",
      "0:\t Acc=0.824999988079071\n",
      "red:\t Acc=0.8500000238418579\n",
      "0:\t Acc=0.9125000238418579\n",
      "red:\t Acc=0.875\n",
      "0:\t Acc=0.8374999761581421\n",
      "red:\t Acc=0.875\n",
      "0:\t Acc=0.862500011920929\n",
      "red:\t Acc=0.824999988079071\n",
      "0:\t Acc=0.7875000238418579\n",
      "red:\t Acc=0.8500000238418579\n",
      "0:\t Acc=0.875\n",
      "red:\t Acc=0.862500011920929\n",
      "0:\t Acc=0.8374999761581421\n",
      "red:\t Acc=0.9125000238418579\n",
      "0:\t Acc=0.875\n",
      "red:\t Acc=0.8374999761581421\n",
      "0:\t Acc=0.8374999761581421\n",
      "red:\t Acc=0.925000011920929\n",
      "0:\t Acc=0.800000011920929\n",
      "red:\t Acc=0.8374999761581421\n",
      "0:\t Acc=0.824999988079071\n",
      "red:\t Acc=0.8500000238418579\n",
      "0:\t Acc=0.762499988079071\n",
      "red:\t Acc=0.9624999761581421\n",
      "0:\t Acc=0.8374999761581421\n",
      "red:\t Acc=0.8374999761581421\n",
      "0:\t Acc=0.824999988079071\n",
      "red:\t Acc=0.824999988079071\n",
      "1:\t Acc=0.8374999761581421\n",
      "green:\t Acc=0.987500011920929\n",
      "1:\t Acc=0.8999999761581421\n",
      "green:\t Acc=0.925000011920929\n",
      "1:\t Acc=0.8999999761581421\n",
      "green:\t Acc=0.9375\n",
      "1:\t Acc=0.887499988079071\n",
      "green:\t Acc=0.9375\n",
      "1:\t Acc=0.8999999761581421\n",
      "green:\t Acc=0.9375\n",
      "1:\t Acc=0.875\n",
      "green:\t Acc=0.925000011920929\n",
      "1:\t Acc=0.8999999761581421\n",
      "green:\t Acc=0.925000011920929\n",
      "1:\t Acc=0.8500000238418579\n",
      "green:\t Acc=0.9624999761581421\n",
      "1:\t Acc=0.887499988079071\n",
      "green:\t Acc=0.949999988079071\n",
      "1:\t Acc=0.9375\n",
      "green:\t Acc=0.925000011920929\n",
      "1:\t Acc=0.887499988079071\n",
      "green:\t Acc=0.949999988079071\n",
      "1:\t Acc=0.9375\n",
      "green:\t Acc=0.925000011920929\n",
      "1:\t Acc=0.862500011920929\n",
      "green:\t Acc=0.925000011920929\n",
      "1:\t Acc=0.887499988079071\n",
      "green:\t Acc=0.8999999761581421\n",
      "1:\t Acc=0.8999999761581421\n",
      "green:\t Acc=0.949999988079071\n",
      "1:\t Acc=0.8999999761581421\n",
      "green:\t Acc=0.8999999761581421\n",
      "1:\t Acc=0.8500000238418579\n",
      "green:\t Acc=0.925000011920929\n",
      "1:\t Acc=0.9125000238418579\n",
      "green:\t Acc=0.9750000238418579\n",
      "1:\t Acc=0.8999999761581421\n",
      "green:\t Acc=0.925000011920929\n",
      "1:\t Acc=0.8500000238418579\n",
      "green:\t Acc=0.949999988079071\n",
      "2:\t Acc=0.7124999761581421\n",
      "blue:\t Acc=0.949999988079071\n",
      "2:\t Acc=0.824999988079071\n",
      "blue:\t Acc=0.9624999761581421\n",
      "2:\t Acc=0.7250000238418579\n",
      "blue:\t Acc=0.8999999761581421\n",
      "2:\t Acc=0.8374999761581421\n",
      "blue:\t Acc=0.8999999761581421\n",
      "2:\t Acc=0.737500011920929\n",
      "blue:\t Acc=0.8999999761581421\n",
      "2:\t Acc=0.762499988079071\n",
      "blue:\t Acc=0.9125000238418579\n",
      "2:\t Acc=0.8500000238418579\n",
      "blue:\t Acc=0.925000011920929\n",
      "2:\t Acc=0.637499988079071\n",
      "blue:\t Acc=0.9624999761581421\n",
      "2:\t Acc=0.6875\n",
      "blue:\t Acc=0.9375\n",
      "2:\t Acc=0.7749999761581421\n",
      "blue:\t Acc=0.987500011920929\n",
      "2:\t Acc=0.8374999761581421\n",
      "blue:\t Acc=0.887499988079071\n",
      "2:\t Acc=0.8125\n",
      "blue:\t Acc=0.9624999761581421\n",
      "2:\t Acc=0.8125\n",
      "blue:\t Acc=0.949999988079071\n",
      "2:\t Acc=0.7875000238418579\n",
      "blue:\t Acc=0.9375\n",
      "2:\t Acc=0.800000011920929\n",
      "blue:\t Acc=0.9375\n",
      "2:\t Acc=0.762499988079071\n",
      "blue:\t Acc=0.9750000238418579\n",
      "2:\t Acc=0.699999988079071\n",
      "blue:\t Acc=0.9375\n",
      "2:\t Acc=0.8500000238418579\n",
      "blue:\t Acc=0.9125000238418579\n",
      "2:\t Acc=0.7124999761581421\n",
      "blue:\t Acc=0.887499988079071\n",
      "2:\t Acc=0.699999988079071\n",
      "blue:\t Acc=0.925000011920929\n",
      "3:\t Acc=0.8125\n",
      "white:\t Acc=0.737500011920929\n",
      "3:\t Acc=0.75\n",
      "white:\t Acc=0.699999988079071\n",
      "3:\t Acc=0.75\n",
      "white:\t Acc=0.637499988079071\n",
      "3:\t Acc=0.7875000238418579\n",
      "white:\t Acc=0.675000011920929\n",
      "3:\t Acc=0.7749999761581421\n",
      "white:\t Acc=0.699999988079071\n",
      "3:\t Acc=0.6499999761581421\n",
      "white:\t Acc=0.7124999761581421\n",
      "3:\t Acc=0.675000011920929\n",
      "white:\t Acc=0.7749999761581421\n",
      "3:\t Acc=0.7250000238418579\n",
      "white:\t Acc=0.7250000238418579\n",
      "3:\t Acc=0.8374999761581421\n",
      "white:\t Acc=0.699999988079071\n",
      "3:\t Acc=0.875\n",
      "white:\t Acc=0.7124999761581421\n",
      "3:\t Acc=0.7875000238418579\n",
      "white:\t Acc=0.737500011920929\n",
      "3:\t Acc=0.7250000238418579\n",
      "white:\t Acc=0.7250000238418579\n",
      "3:\t Acc=0.824999988079071\n",
      "white:\t Acc=0.75\n",
      "3:\t Acc=0.8374999761581421\n",
      "white:\t Acc=0.7250000238418579\n",
      "3:\t Acc=0.762499988079071\n",
      "white:\t Acc=0.737500011920929\n",
      "3:\t Acc=0.824999988079071\n",
      "white:\t Acc=0.699999988079071\n",
      "3:\t Acc=0.6625000238418579\n",
      "white:\t Acc=0.6875\n",
      "3:\t Acc=0.637499988079071\n",
      "white:\t Acc=0.675000011920929\n",
      "3:\t Acc=0.7749999761581421\n"
     ]
    }
   ],
   "source": [
    "# Compute CAVs for all concepts - without bias\n",
    "model = vae\n",
    "model.load(epoch=100)\n",
    "n_concept_samples = 200\n",
    "runs = 20\n",
    "\n",
    "seed = 1337\n",
    "tf.random.set_seed(seed)\n",
    "np.random.seed(seed)\n",
    "\n",
    "digit_clfs = []\n",
    "digit_cavs = []\n",
    "color_clfs = []\n",
    "color_cavs = []\n",
    "\n",
    "print(\"\\nAccuracies for unbiased vae:\")\n",
    "# Compute CAVs for all digits and colors\n",
    "for i in tqdm(range(10)):\n",
    "    digit = i\n",
    "    color = colors[i]\n",
    "\n",
    "    d_clfs = []\n",
    "    d_cavs = []\n",
    "    c_clfs = []\n",
    "    c_cavs = []\n",
    "\n",
    "    # Do multiple runs to get reliable results\n",
    "    for r in range(runs):\n",
    "        seed = i + r * 1\n",
    "        np.random.seed(seed)\n",
    "        tf.random.set_seed(seed)\n",
    "\n",
    "        # Digit CAV\n",
    "        P_digit, N_digit = data.digit_concept_data(digit, colors)\n",
    "        P_digit = build_tensor(P_digit, n_concept_samples=n_concept_samples)\n",
    "        N_digit = build_tensor(N_digit, n_concept_samples=n_concept_samples)\n",
    "        cav_digit, clf_digit = compute_cav(model, P_digit, N_digit)\n",
    "        d_clfs.append(clf_digit)\n",
    "        d_cavs.append(cav_digit)\n",
    "        print(f\"{digit}:\\t Acc={clf_digit.history.history['val_accuracy'][-1]}\")\n",
    "\n",
    "        # Color CAV\n",
    "        P_color, N_color = data.color_concept_data(color, colors)\n",
    "        P_color = build_tensor(P_color, n_concept_samples=n_concept_samples)\n",
    "        N_color = build_tensor(N_color, n_concept_samples=n_concept_samples)\n",
    "        cav_color, clf_color = compute_cav(model, P_color, N_color)\n",
    "        c_clfs.append(clf_color)\n",
    "        c_cavs.append(cav_color)\n",
    "        print(f\"{color_names[i]}:\\t Acc={clf_color.history.history['val_accuracy'][-1]}\")\n",
    "\n",
    "    digit_clfs.append(d_clfs)\n",
    "    digit_cavs.append(d_cavs)\n",
    "    color_clfs.append(c_clfs)\n",
    "    color_cavs.append(c_cavs)"
   ]
  },
  {
   "cell_type": "code",
   "execution_count": 11,
   "metadata": {
    "pycharm": {
     "name": "#%%\n"
    }
   },
   "outputs": [
    {
     "data": {
      "application/vnd.jupyter.widget-view+json": {
       "model_id": "c6022355a0ec41ca94f0d4e8573c48ec",
       "version_major": 2,
       "version_minor": 0
      },
      "text/plain": [
       "  0%|          | 0/20 [00:00<?, ?it/s]"
      ]
     },
     "metadata": {},
     "output_type": "display_data"
    },
    {
     "data": {
      "application/vnd.jupyter.widget-view+json": {
       "model_id": "c6413df354164cda8c11a42a7339f09e",
       "version_major": 2,
       "version_minor": 0
      },
      "text/plain": [
       "  0%|          | 0/20 [00:00<?, ?it/s]"
      ]
     },
     "metadata": {},
     "output_type": "display_data"
    },
    {
     "name": "stdout",
     "output_type": "stream",
     "text": [
      "0 and green = -0.02095410166773945\n",
      "0 and blue = 0.06071127800270915\n",
      "0 and white = -0.09973033230751753\n",
      "0 and gray = -0.07086580837436486\n",
      "0 and pink = -0.046480728568858466\n",
      "0 and yellow = -0.04938307769596577\n",
      "0 and mint = -0.11589725441299378\n",
      "0 and orange = 0.08803703717363533\n",
      "0 and purple = 0.06082973346114159\n"
     ]
    },
    {
     "data": {
      "application/vnd.jupyter.widget-view+json": {
       "model_id": "46c99be8d60246a3859b5f92cfe9b3b6",
       "version_major": 2,
       "version_minor": 0
      },
      "text/plain": [
       "  0%|          | 0/20 [00:00<?, ?it/s]"
      ]
     },
     "metadata": {},
     "output_type": "display_data"
    },
    {
     "name": "stdout",
     "output_type": "stream",
     "text": [
      "1 and green = 0.11959518835879862\n",
      "1 and blue = 0.13457392951473593\n",
      "1 and white = -0.20365939318202436\n",
      "1 and gray = -0.11739111677743494\n",
      "1 and pink = -0.012759581387508661\n",
      "1 and yellow = -0.04036942217499018\n",
      "1 and mint = -0.125396407765802\n",
      "1 and orange = 0.13205891956575214\n",
      "1 and purple = 0.1367514752037823\n"
     ]
    },
    {
     "data": {
      "application/vnd.jupyter.widget-view+json": {
       "model_id": "6c3ac97a64854e63ab15ed76530a190c",
       "version_major": 2,
       "version_minor": 0
      },
      "text/plain": [
       "  0%|          | 0/20 [00:00<?, ?it/s]"
      ]
     },
     "metadata": {},
     "output_type": "display_data"
    },
    {
     "name": "stdout",
     "output_type": "stream",
     "text": [
      "2 and green = -0.013056935847271234\n",
      "2 and blue = -0.02557378347031772\n",
      "2 and white = -0.024263763618655503\n",
      "2 and gray = -0.049548551255138594\n",
      "2 and pink = -0.022586333049694075\n",
      "2 and yellow = 0.03318002020940185\n",
      "2 and mint = -0.05529611714184284\n",
      "2 and orange = 0.0769318684778409\n",
      "2 and purple = 0.004536961372941732\n"
     ]
    },
    {
     "data": {
      "application/vnd.jupyter.widget-view+json": {
       "model_id": "0e0a0bfab0a04cbeb5a9a9bbb7f38e37",
       "version_major": 2,
       "version_minor": 0
      },
      "text/plain": [
       "  0%|          | 0/20 [00:00<?, ?it/s]"
      ]
     },
     "metadata": {},
     "output_type": "display_data"
    },
    {
     "name": "stdout",
     "output_type": "stream",
     "text": [
      "3 and green = -0.008760008216486313\n",
      "3 and blue = 0.009002603162662126\n",
      "3 and white = 0.012792574125342071\n",
      "3 and gray = 0.022599061746150256\n",
      "3 and pink = 0.024688001062022524\n",
      "3 and yellow = -0.021526141489157453\n",
      "3 and mint = 0.02228042706658016\n",
      "3 and orange = -0.000277130210888572\n",
      "3 and purple = 0.03005584164056927\n"
     ]
    },
    {
     "data": {
      "application/vnd.jupyter.widget-view+json": {
       "model_id": "afcce425e3bf4d7ba0b27b4fe0ab4389",
       "version_major": 2,
       "version_minor": 0
      },
      "text/plain": [
       "  0%|          | 0/20 [00:00<?, ?it/s]"
      ]
     },
     "metadata": {},
     "output_type": "display_data"
    },
    {
     "name": "stdout",
     "output_type": "stream",
     "text": [
      "4 and green = 0.05180020821979269\n",
      "4 and blue = 0.036302710212767125\n",
      "4 and white = -0.1017389852181077\n",
      "4 and gray = -0.07674382945522666\n",
      "4 and pink = -0.054186841887421906\n",
      "4 and yellow = 0.0012618899438530207\n",
      "4 and mint = -0.0825556118087843\n",
      "4 and orange = 0.03631119790719822\n",
      "4 and purple = 0.015165805909782648\n"
     ]
    },
    {
     "data": {
      "application/vnd.jupyter.widget-view+json": {
       "model_id": "e8f7d9543e094d0b89279b9eecebc109",
       "version_major": 2,
       "version_minor": 0
      },
      "text/plain": [
       "  0%|          | 0/20 [00:00<?, ?it/s]"
      ]
     },
     "metadata": {},
     "output_type": "display_data"
    },
    {
     "name": "stdout",
     "output_type": "stream",
     "text": [
      "5 and green = 0.1243676060589496\n",
      "5 and blue = 0.07035467282868922\n",
      "5 and white = -0.06562574251787737\n",
      "5 and gray = 0.019937886805273593\n",
      "5 and pink = -0.05407663490041159\n",
      "5 and yellow = -0.10763759128632955\n",
      "5 and mint = 0.012290372246643528\n",
      "5 and orange = -0.02949679564277176\n",
      "5 and purple = 0.08010069373995066\n"
     ]
    },
    {
     "data": {
      "application/vnd.jupyter.widget-view+json": {
       "model_id": "5ee1d674ea3c4cf8807f85e1041de5d9",
       "version_major": 2,
       "version_minor": 0
      },
      "text/plain": [
       "  0%|          | 0/20 [00:00<?, ?it/s]"
      ]
     },
     "metadata": {},
     "output_type": "display_data"
    },
    {
     "name": "stdout",
     "output_type": "stream",
     "text": [
      "6 and green = 0.039126382101676425\n",
      "6 and blue = 0.07668835534248501\n",
      "6 and white = -0.1051297241350403\n",
      "6 and gray = -0.06868709114671219\n",
      "6 and pink = -0.013079768666066229\n",
      "6 and yellow = -0.043352959761396054\n",
      "6 and mint = -0.0905563524653553\n",
      "6 and orange = 0.06530041735750274\n",
      "6 and purple = 0.08147362871095538\n"
     ]
    },
    {
     "data": {
      "application/vnd.jupyter.widget-view+json": {
       "model_id": "2394fae7515f476f8e19ba2293752a3e",
       "version_major": 2,
       "version_minor": 0
      },
      "text/plain": [
       "  0%|          | 0/20 [00:00<?, ?it/s]"
      ]
     },
     "metadata": {},
     "output_type": "display_data"
    },
    {
     "name": "stdout",
     "output_type": "stream",
     "text": [
      "7 and green = 0.0330027903849259\n",
      "7 and blue = 0.03307498550973833\n",
      "7 and white = -0.09970169686712324\n",
      "7 and gray = -0.07443800664041192\n",
      "7 and pink = -0.042720021328423174\n",
      "7 and yellow = 0.022657131040468813\n",
      "7 and mint = -0.08217767909169198\n",
      "7 and orange = 0.0875274049626023\n",
      "7 and purple = 0.03930311822332442\n"
     ]
    },
    {
     "data": {
      "application/vnd.jupyter.widget-view+json": {
       "model_id": "9ceebae282cd4032be88d88cb0a97318",
       "version_major": 2,
       "version_minor": 0
      },
      "text/plain": [
       "  0%|          | 0/20 [00:00<?, ?it/s]"
      ]
     },
     "metadata": {},
     "output_type": "display_data"
    },
    {
     "name": "stdout",
     "output_type": "stream",
     "text": [
      "8 and green = -0.13873077365686184\n",
      "8 and blue = -0.12425252985674888\n",
      "8 and white = 0.21182383697945625\n",
      "8 and gray = 0.12403867835178971\n",
      "8 and pink = 0.08023273243103177\n",
      "8 and yellow = 0.04687376629561186\n",
      "8 and mint = 0.1548108803643845\n",
      "8 and orange = -0.13037310305051505\n",
      "8 and purple = -0.14663143665995448\n"
     ]
    },
    {
     "data": {
      "application/vnd.jupyter.widget-view+json": {
       "model_id": "001864f1f8df4f44a9c42eee38c52ba5",
       "version_major": 2,
       "version_minor": 0
      },
      "text/plain": [
       "  0%|          | 0/20 [00:00<?, ?it/s]"
      ]
     },
     "metadata": {},
     "output_type": "display_data"
    },
    {
     "name": "stdout",
     "output_type": "stream",
     "text": [
      "9 and green = -0.07926088103558868\n",
      "9 and blue = 0.026815781882032753\n",
      "9 and white = 0.026721427966840565\n",
      "9 and gray = 0.014599939981126226\n",
      "9 and pink = 0.05181760979699902\n",
      "9 and yellow = -0.009520040275529027\n",
      "9 and mint = 0.013432555636391043\n",
      "9 and orange = -0.0508710396673996\n",
      "9 and purple = -0.01100186618976295\n"
     ]
    },
    {
     "data": {
      "application/vnd.jupyter.widget-view+json": {
       "model_id": "ab589eb058fb404fb5c2079ac26ef023",
       "version_major": 2,
       "version_minor": 0
      },
      "text/plain": [
       "  0%|          | 0/20 [00:00<?, ?it/s]"
      ]
     },
     "metadata": {},
     "output_type": "display_data"
    },
    {
     "data": {
      "application/vnd.jupyter.widget-view+json": {
       "model_id": "69af70d9f53541deaa13a8dcd44a9402",
       "version_major": 2,
       "version_minor": 0
      },
      "text/plain": [
       "  0%|          | 0/20 [00:00<?, ?it/s]"
      ]
     },
     "metadata": {},
     "output_type": "display_data"
    },
    {
     "data": {
      "application/vnd.jupyter.widget-view+json": {
       "model_id": "4664bc3fa1364de686b5e61aa0a2a78a",
       "version_major": 2,
       "version_minor": 0
      },
      "text/plain": [
       "  0%|          | 0/20 [00:00<?, ?it/s]"
      ]
     },
     "metadata": {},
     "output_type": "display_data"
    },
    {
     "data": {
      "application/vnd.jupyter.widget-view+json": {
       "model_id": "d76b5972df3c46ac89244935967d7a2b",
       "version_major": 2,
       "version_minor": 0
      },
      "text/plain": [
       "  0%|          | 0/20 [00:00<?, ?it/s]"
      ]
     },
     "metadata": {},
     "output_type": "display_data"
    },
    {
     "data": {
      "application/vnd.jupyter.widget-view+json": {
       "model_id": "5e257e28b8f84c979ef8368de5e3e09c",
       "version_major": 2,
       "version_minor": 0
      },
      "text/plain": [
       "  0%|          | 0/20 [00:00<?, ?it/s]"
      ]
     },
     "metadata": {},
     "output_type": "display_data"
    },
    {
     "data": {
      "application/vnd.jupyter.widget-view+json": {
       "model_id": "0c03b553892546b084882e0af7c5b0f2",
       "version_major": 2,
       "version_minor": 0
      },
      "text/plain": [
       "  0%|          | 0/20 [00:00<?, ?it/s]"
      ]
     },
     "metadata": {},
     "output_type": "display_data"
    },
    {
     "data": {
      "application/vnd.jupyter.widget-view+json": {
       "model_id": "9c3ded116f04430ba37323f3fc2d45fb",
       "version_major": 2,
       "version_minor": 0
      },
      "text/plain": [
       "  0%|          | 0/20 [00:00<?, ?it/s]"
      ]
     },
     "metadata": {},
     "output_type": "display_data"
    },
    {
     "data": {
      "application/vnd.jupyter.widget-view+json": {
       "model_id": "c1d4ab4e101448c68f4cb8a20921c4b9",
       "version_major": 2,
       "version_minor": 0
      },
      "text/plain": [
       "  0%|          | 0/20 [00:00<?, ?it/s]"
      ]
     },
     "metadata": {},
     "output_type": "display_data"
    },
    {
     "data": {
      "application/vnd.jupyter.widget-view+json": {
       "model_id": "ff29961b2dc84700a8a8962a620a6744",
       "version_major": 2,
       "version_minor": 0
      },
      "text/plain": [
       "  0%|          | 0/20 [00:00<?, ?it/s]"
      ]
     },
     "metadata": {},
     "output_type": "display_data"
    },
    {
     "data": {
      "application/vnd.jupyter.widget-view+json": {
       "model_id": "02e76ef71a7c418b878c8b5f1b2e8e68",
       "version_major": 2,
       "version_minor": 0
      },
      "text/plain": [
       "  0%|          | 0/20 [00:00<?, ?it/s]"
      ]
     },
     "metadata": {},
     "output_type": "display_data"
    },
    {
     "data": {
      "image/png": "[encoded data removed]",
      "text/plain": [
       "<Figure size 432x288 with 2 Axes>"
      ]
     },
     "metadata": {},
     "output_type": "display_data"
    }
   ],
   "source": [
    "# Compute average TCAV score for every possible combination, plot as heatmap\n",
    "\n",
    "tcav_scores = np.zeros((20, 20))\n",
    "for i in tqdm(range(20)):\n",
    "    for j in tqdm(range(20)):\n",
    "        scores = np.zeros((runs * runs,))\n",
    "\n",
    "        # Compute dotproduct for all combinations using the concepts i and j (digit or color)\n",
    "        for i_runs in range(runs):\n",
    "            for j_runs in range(runs):\n",
    "                # if i < 10, then treat as digit, else treat as color (same for j)\n",
    "                cav_1 = (digit_cavs[i] if i < 10 else color_cavs[i - 10])[i_runs]\n",
    "                cav_2 = (digit_cavs[j] if j < 10 else color_cavs[j - 10])[j_runs]\n",
    "                scores[i_runs * runs + j_runs] = tf.tensordot(tf.transpose(cav_1), cav_2, axes=1).numpy()[0][0]\n",
    "\n",
    "        tcav_scores[i, j] = np.average(scores)\n",
    "        if i < 10 and j > 10:\n",
    "            print(f\"{i} and {color_names[j-10]} = {tcav_scores[i,j]}\")\n",
    "\n",
    "# Visualization as heatmap, ignoring values < 0 because we are only interested in positive correlations\n",
    "labels = [str(i) if i < 10 else color_names[i - 10] for i in range(20)]\n",
    "tcav_scores_clipped = np.clip(tcav_scores, 0, 1)\n",
    "plotutils.heatmap(tcav_scores_clipped, labels, filename='./figs/mlpvae_pure_complex.png')"
   ]
  }
 ],
 "metadata": {
  "kernelspec": {
   "display_name": "Python 3",
   "language": "python",
   "name": "python3"
  },
  "language_info": {
   "codemirror_mode": {
    "name": "ipython",
    "version": 3
   },
   "file_extension": ".py",
   "mimetype": "text/x-python",
   "name": "python",
   "nbconvert_exporter": "python",
   "pygments_lexer": "ipython3",
   "version": "3.8.5"
  }
 },
 "nbformat": 4,
 "nbformat_minor": 1
}